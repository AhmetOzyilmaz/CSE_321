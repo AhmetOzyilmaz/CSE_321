{
 "cells": [
  {
   "cell_type": "code",
   "execution_count": 77,
   "metadata": {},
   "outputs": [],
   "source": [
    "dictionaryList = [\"one\",\"wa\",\"itwas\",\"itw\",\"it\",\"was\",\"the\",\"best\",\"of\",\"times\"]\n",
    "\n",
    "        \n",
    "def main(string):\n",
    "    size = len(string)\n",
    "    dynamicList = [\"\"] * size    \n",
    "    print(\"Array Size: \" + str (size)) \n",
    "    correctList = [] \n",
    "    \n",
    "    for i in range(1,size):\n",
    "        index = 1\n",
    "        for j in range (i-1,size):          \n",
    "            dynamicList[j] = string[:j]\n",
    "            if(IsValid(dynamicList[j])):\n",
    "                print(\"This is Valid Word : \" + dynamicList[j])\n",
    "                correctList.append(dynamicList[j])\n",
    "                string = string[j:]  \n",
    "                print(string)\n",
    "        \n",
    "    print(\"Dynamic List :\")\n",
    "    print(dynamicList)\n",
    "    print(\"Result List :\" )\n",
    "    print(correctList)\n",
    "\n",
    "    return \"True\"\n",
    "\n",
    "def IsValid(str):\n",
    "    return str in dictionaryList"
   ]
  },
  {
   "cell_type": "code",
   "execution_count": 78,
   "metadata": {},
   "outputs": [
    {
     "name": "stdout",
     "output_type": "stream",
     "text": [
      "Array Size: 24\n",
      "This is Valid Word : it\n",
      "wasthebestoftimesitwas\n",
      "This is Valid Word : was\n",
      "thebestoftimesitwas\n",
      "This is Valid Word : the\n",
      "bestoftimesitwas\n",
      "This is Valid Word : best\n",
      "oftimesitwas\n",
      "This is Valid Word : of\n",
      "timesitwas\n",
      "This is Valid Word : times\n",
      "itwas\n",
      "This is Valid Word : itwas\n",
      "\n",
      "Dynamic List :\n",
      "['', 't', 'of', '', '', '', '', '', '', '', '', '', '', '', '', '', '', '', '', '', '', '', '', '']\n",
      "Result List :\n",
      "['it', 'was', 'the', 'best', 'of', 'times', 'itwas']\n"
     ]
    },
    {
     "data": {
      "text/plain": [
       "'True'"
      ]
     },
     "execution_count": 78,
     "metadata": {},
     "output_type": "execute_result"
    }
   ],
   "source": [
    "main(\"itwasthebestoftimesitwas\")"
   ]
  }
 ],
 "metadata": {
  "kernelspec": {
   "display_name": "Python 3",
   "language": "python",
   "name": "python3"
  },
  "language_info": {
   "codemirror_mode": {
    "name": "ipython",
    "version": 3
   },
   "file_extension": ".py",
   "mimetype": "text/x-python",
   "name": "python",
   "nbconvert_exporter": "python",
   "pygments_lexer": "ipython3",
   "version": "3.7.0"
  }
 },
 "nbformat": 4,
 "nbformat_minor": 2
}
